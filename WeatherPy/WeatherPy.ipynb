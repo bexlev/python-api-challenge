{
 "cells": [
  {
   "cell_type": "markdown",
   "metadata": {},
   "source": [
    "# WeatherPy\n",
    "\n",
    "---\n",
    "\n",
    "## Starter Code to Generate Random Geographic Coordinates and a List of Cities"
   ]
  },
  {
   "cell_type": "code",
   "execution_count": 5,
   "metadata": {
    "scrolled": true
   },
   "outputs": [],
   "source": [
    "# Dependencies and Setup\n",
    "import matplotlib.pyplot as plt\n",
    "import pandas as pd\n",
    "import numpy as np\n",
    "import requests\n",
    "import time\n",
    "from scipy.stats import linregress\n",
    "\n",
    "# Import the OpenWeatherMap API key\n",
    "from api_keys import weather_api_key\n",
    "\n",
    "# Import citipy to determine the cities based on latitude and longitude\n",
    "from citipy import citipy\n",
    "\n"
   ]
  },
  {
   "cell_type": "markdown",
   "metadata": {},
   "source": [
    "### Generate the Cities List by Using the `citipy` Library"
   ]
  },
  {
   "cell_type": "code",
   "execution_count": 6,
   "metadata": {},
   "outputs": [
    {
     "name": "stdout",
     "output_type": "stream",
     "text": [
      "Number of cities in the list: 615\n"
     ]
    }
   ],
   "source": [
    "# Empty list for holding the latitude and longitude combinations\n",
    "lat_lngs = []\n",
    "\n",
    "# Empty list for holding the cities names\n",
    "cities = []\n",
    "\n",
    "# Range of latitudes and longitudes\n",
    "lat_range = (-90, 90)\n",
    "lng_range = (-180, 180)\n",
    "\n",
    "# Create a set of random lat and lng combinations\n",
    "lats = np.random.uniform(lat_range[0], lat_range[1], size=1500)\n",
    "lngs = np.random.uniform(lng_range[0], lng_range[1], size=1500)\n",
    "lat_lngs = zip(lats, lngs)\n",
    "\n",
    "# Identify nearest city for each lat, lng combination\n",
    "for lat_lng in lat_lngs:\n",
    "    city = citipy.nearest_city(lat_lng[0], lat_lng[1]).city_name\n",
    "    \n",
    "    # If the city is unique, then add it to a our cities list\n",
    "    if city not in cities:\n",
    "        cities.append(city)\n",
    "\n",
    "# Print the city count to confirm sufficient count\n",
    "print(f\"Number of cities in the list: {len(cities)}\")"
   ]
  },
  {
   "cell_type": "markdown",
   "metadata": {},
   "source": [
    "---"
   ]
  },
  {
   "cell_type": "markdown",
   "metadata": {},
   "source": [
    "## Requirement 1: Create Plots to Showcase the Relationship Between Weather Variables and Latitude\n",
    "\n",
    "### Use the OpenWeatherMap API to retrieve weather data from the cities list generated in the started code"
   ]
  },
  {
   "cell_type": "code",
   "execution_count": 8,
   "metadata": {},
   "outputs": [
    {
     "name": "stdout",
     "output_type": "stream",
     "text": [
      "Beginning Data Retrieval     \n",
      "-----------------------------\n"
     ]
    }
   ],
   "source": [
    "# Set the API base URL\n",
    "url = f\"http://api.openweathermap.org/data/2.5/weather?units=Imperial&APPID={weather_api_key}\"\n",
    "\n",
    "# base = > http://api.openweathermap.org\n",
    "# path => /data/2.5/weather\n",
    "# Params => units=Imperial&APPID={weather_api_key}&q=Londan\n",
    "\n",
    "# endpoint => http://api.openweathermap.org/data/2.5/weather?units=Imperial&APPID={weather_api_key}\n",
    "\n",
    "\n",
    "# Define an empty list to fetch the weather data for each city\n",
    "city_data = []\n",
    "\n",
    "# Print to logger\n",
    "print(\"Beginning Data Retrieval     \")\n",
    "print(\"-----------------------------\")\n",
    "\n"
   ]
  },
  {
   "cell_type": "code",
   "execution_count": 8,
   "metadata": {},
   "outputs": [],
   "source": [
    "#Example to test call\n",
    "city_url = url + \"&q=\" + 'london'\n",
    "city_weather = requests.get(city_url).json()"
   ]
  },
  {
   "cell_type": "code",
   "execution_count": 22,
   "metadata": {},
   "outputs": [
    {
     "name": "stdout",
     "output_type": "stream",
     "text": [
      "dict_keys(['coord', 'weather', 'base', 'main', 'visibility', 'wind', 'clouds', 'dt', 'sys', 'timezone', 'id', 'name', 'cod'])\n"
     ]
    },
    {
     "data": {
      "text/plain": [
       "[{'id': 804,\n",
       "  'main': 'Clouds',\n",
       "  'description': 'overcast clouds',\n",
       "  'icon': '04n'}]"
      ]
     },
     "execution_count": 22,
     "metadata": {},
     "output_type": "execute_result"
    }
   ],
   "source": [
    "city_weather\n",
    "#Lists out all keys\n",
    "print(city_weather.keys())\n",
    "#check variables in keys\n",
    "city_weather['weather']"
   ]
  },
  {
   "cell_type": "code",
   "execution_count": 10,
   "metadata": {},
   "outputs": [
    {
     "data": {
      "text/plain": [
       "dict"
      ]
     },
     "execution_count": 10,
     "metadata": {},
     "output_type": "execute_result"
    }
   ],
   "source": [
    "#Curly base means dictionary\n",
    "#type(city_weather) --> returns dict"
   ]
  },
  {
   "cell_type": "code",
   "execution_count": 9,
   "metadata": {
    "scrolled": true
   },
   "outputs": [
    {
     "name": "stdout",
     "output_type": "stream",
     "text": [
      "Processing Record 1 of Set 1 | srednekolymsk\n",
      "Processing Record 2 of Set 1 | nizhneyansk\n",
      "City not found. Skipping...\n",
      "Processing Record 3 of Set 1 | yellowknife\n",
      "Processing Record 4 of Set 1 | atuona\n",
      "Processing Record 5 of Set 1 | sistranda\n",
      "Processing Record 6 of Set 1 | pisco\n",
      "Processing Record 7 of Set 1 | ushuaia\n",
      "Processing Record 8 of Set 1 | pervomayskiy\n",
      "Processing Record 9 of Set 1 | bengkulu\n",
      "Processing Record 10 of Set 1 | nkowakowa\n",
      "Processing Record 11 of Set 1 | busselton\n",
      "Processing Record 12 of Set 1 | ponta do sol\n",
      "Processing Record 13 of Set 1 | butaritari\n",
      "Processing Record 14 of Set 1 | pravia\n",
      "Processing Record 15 of Set 1 | sept-iles\n",
      "Processing Record 16 of Set 1 | isangel\n",
      "Processing Record 17 of Set 1 | kathmandu\n",
      "Processing Record 18 of Set 1 | manggar\n",
      "Processing Record 19 of Set 1 | mataura\n",
      "Processing Record 20 of Set 1 | barrow\n",
      "Processing Record 21 of Set 1 | cape town\n",
      "Processing Record 22 of Set 1 | yumen\n",
      "Processing Record 23 of Set 1 | faanui\n",
      "Processing Record 24 of Set 1 | evensk\n",
      "Processing Record 25 of Set 1 | kisumu\n",
      "Processing Record 26 of Set 1 | san ramon\n",
      "Processing Record 27 of Set 1 | rikitea\n",
      "Processing Record 28 of Set 1 | mys shmidta\n",
      "City not found. Skipping...\n",
      "Processing Record 29 of Set 1 | dinguiraye\n",
      "Processing Record 30 of Set 1 | vaini\n",
      "Processing Record 31 of Set 1 | la ronge\n",
      "Processing Record 32 of Set 1 | bambous virieux\n",
      "Processing Record 33 of Set 1 | dawson creek\n",
      "Processing Record 34 of Set 1 | tuatapere\n",
      "Processing Record 35 of Set 1 | chuy\n",
      "Processing Record 36 of Set 1 | chipinge\n",
      "Processing Record 37 of Set 1 | talnakh\n",
      "Processing Record 38 of Set 1 | paradwip\n",
      "City not found. Skipping...\n",
      "Processing Record 39 of Set 1 | saskylakh\n",
      "Processing Record 40 of Set 1 | port hedland\n",
      "Processing Record 41 of Set 1 | hobart\n",
      "Processing Record 42 of Set 1 | punta arenas\n",
      "Processing Record 43 of Set 1 | saint-philippe\n",
      "Processing Record 44 of Set 1 | bethel\n",
      "Processing Record 45 of Set 1 | terme\n",
      "Processing Record 46 of Set 1 | samusu\n",
      "City not found. Skipping...\n",
      "Processing Record 47 of Set 1 | bolungarvik\n",
      "City not found. Skipping...\n",
      "Processing Record 48 of Set 1 | shellbrook\n",
      "Processing Record 49 of Set 1 | sao filipe\n",
      "Processing Record 50 of Set 1 | guerrero negro\n",
      "Processing Record 0 of Set 2 | bluff\n",
      "Processing Record 1 of Set 2 | kapaa\n",
      "Processing Record 2 of Set 2 | motozintla\n",
      "Processing Record 3 of Set 2 | port alfred\n",
      "Processing Record 4 of Set 2 | micomeseng\n",
      "Processing Record 5 of Set 2 | kieta\n",
      "Processing Record 6 of Set 2 | mackenzie\n",
      "Processing Record 7 of Set 2 | manica\n",
      "Processing Record 8 of Set 2 | tomelloso\n",
      "Processing Record 9 of Set 2 | sentyabrskiy\n",
      "City not found. Skipping...\n",
      "Processing Record 10 of Set 2 | pevek\n",
      "Processing Record 11 of Set 2 | salalah\n",
      "Processing Record 12 of Set 2 | madera\n",
      "Processing Record 13 of Set 2 | hithadhoo\n",
      "Processing Record 14 of Set 2 | thompson\n",
      "Processing Record 15 of Set 2 | matamoros\n",
      "Processing Record 16 of Set 2 | nanakuli\n",
      "Processing Record 17 of Set 2 | romny\n",
      "Processing Record 18 of Set 2 | san cristobal\n",
      "Processing Record 19 of Set 2 | east london\n",
      "Processing Record 20 of Set 2 | college\n",
      "Processing Record 21 of Set 2 | saleaula\n",
      "City not found. Skipping...\n",
      "Processing Record 22 of Set 2 | cherskiy\n",
      "Processing Record 23 of Set 2 | lasa\n",
      "Processing Record 24 of Set 2 | kon tum\n",
      "Processing Record 25 of Set 2 | jamestown\n",
      "Processing Record 26 of Set 2 | grand river south east\n",
      "City not found. Skipping...\n",
      "Processing Record 27 of Set 2 | hukuntsi\n",
      "Processing Record 28 of Set 2 | ileza\n",
      "Processing Record 29 of Set 2 | pokhara\n",
      "Processing Record 30 of Set 2 | alekseyevsk\n",
      "Processing Record 31 of Set 2 | dingle\n",
      "Processing Record 32 of Set 2 | kavieng\n",
      "Processing Record 33 of Set 2 | vila\n",
      "Processing Record 34 of Set 2 | albany\n",
      "Processing Record 35 of Set 2 | belushya guba\n",
      "City not found. Skipping...\n",
      "Processing Record 36 of Set 2 | katsuura\n",
      "Processing Record 37 of Set 2 | hermanus\n",
      "Processing Record 38 of Set 2 | chokurdakh\n",
      "Processing Record 39 of Set 2 | ashington\n",
      "Processing Record 40 of Set 2 | nisia floresta\n",
      "Processing Record 41 of Set 2 | carnarvon\n",
      "Processing Record 42 of Set 2 | la grande\n",
      "Processing Record 43 of Set 2 | sinnamary\n",
      "Processing Record 44 of Set 2 | ostrovnoy\n",
      "Processing Record 45 of Set 2 | evinayong\n",
      "Processing Record 46 of Set 2 | lieksa\n",
      "Processing Record 47 of Set 2 | avarua\n",
      "Processing Record 48 of Set 2 | garowe\n",
      "Processing Record 49 of Set 2 | saint-pierre\n",
      "Processing Record 0 of Set 3 | komsomolskiy\n",
      "Processing Record 1 of Set 3 | iqaluit\n",
      "Processing Record 2 of Set 3 | trelew\n",
      "Processing Record 3 of Set 3 | marsa matruh\n",
      "Processing Record 4 of Set 3 | bloemfontein\n",
      "Processing Record 5 of Set 3 | hilo\n",
      "Processing Record 6 of Set 3 | aktash\n",
      "Processing Record 7 of Set 3 | puerto ayora\n",
      "Processing Record 8 of Set 3 | tsihombe\n",
      "City not found. Skipping...\n",
      "Processing Record 9 of Set 3 | port macquarie\n",
      "Processing Record 10 of Set 3 | san andres\n",
      "Processing Record 11 of Set 3 | kentau\n",
      "Processing Record 12 of Set 3 | tuktoyaktuk\n",
      "Processing Record 13 of Set 3 | pedernales\n",
      "Processing Record 14 of Set 3 | reoti\n",
      "Processing Record 15 of Set 3 | farsund\n",
      "Processing Record 16 of Set 3 | georgetown\n",
      "Processing Record 17 of Set 3 | smithers\n",
      "Processing Record 18 of Set 3 | mar del plata\n",
      "Processing Record 19 of Set 3 | chumikan\n",
      "Processing Record 20 of Set 3 | narsaq\n",
      "Processing Record 21 of Set 3 | longyearbyen\n",
      "Processing Record 22 of Set 3 | payo\n",
      "Processing Record 23 of Set 3 | coquimbo\n",
      "Processing Record 24 of Set 3 | kodiak\n",
      "Processing Record 25 of Set 3 | flagstaff\n",
      "Processing Record 26 of Set 3 | puerto carreno\n",
      "Processing Record 27 of Set 3 | ayr\n",
      "Processing Record 28 of Set 3 | qaanaaq\n",
      "Processing Record 29 of Set 3 | new norfolk\n",
      "Processing Record 30 of Set 3 | mahebourg\n",
      "Processing Record 31 of Set 3 | fort nelson\n",
      "Processing Record 32 of Set 3 | mayna\n",
      "Processing Record 33 of Set 3 | flinders\n",
      "Processing Record 34 of Set 3 | gat\n",
      "Processing Record 35 of Set 3 | illoqqortoormiut\n",
      "City not found. Skipping...\n",
      "Processing Record 36 of Set 3 | richards bay\n",
      "Processing Record 37 of Set 3 | sicamous\n",
      "Processing Record 38 of Set 3 | barentsburg\n",
      "City not found. Skipping...\n",
      "Processing Record 39 of Set 3 | grindavik\n",
      "Processing Record 40 of Set 3 | kobelyaky\n",
      "Processing Record 41 of Set 3 | barranca\n",
      "Processing Record 42 of Set 3 | mackay\n",
      "Processing Record 43 of Set 3 | nikolskoye\n",
      "Processing Record 44 of Set 3 | khatanga\n",
      "Processing Record 45 of Set 3 | nanortalik\n",
      "Processing Record 46 of Set 3 | burica\n",
      "City not found. Skipping...\n",
      "Processing Record 47 of Set 3 | cabo san lucas\n",
      "Processing Record 48 of Set 3 | nelson bay\n",
      "Processing Record 49 of Set 3 | geraldton\n",
      "Processing Record 0 of Set 4 | quatre cocos\n",
      "Processing Record 1 of Set 4 | kamaishi\n",
      "Processing Record 2 of Set 4 | amderma\n",
      "City not found. Skipping...\n",
      "Processing Record 3 of Set 4 | taolanaro\n",
      "City not found. Skipping...\n",
      "Processing Record 4 of Set 4 | bubaque\n",
      "Processing Record 5 of Set 4 | nago\n",
      "Processing Record 6 of Set 4 | saldanha\n",
      "Processing Record 7 of Set 4 | cam ranh\n",
      "Processing Record 8 of Set 4 | la sarre\n",
      "Processing Record 9 of Set 4 | upernavik\n",
      "Processing Record 10 of Set 4 | beloha\n",
      "Processing Record 11 of Set 4 | nyurba\n",
      "Processing Record 12 of Set 4 | attawapiskat\n",
      "City not found. Skipping...\n",
      "Processing Record 13 of Set 4 | sambava\n",
      "Processing Record 14 of Set 4 | kamenskoye\n",
      "City not found. Skipping...\n",
      "Processing Record 15 of Set 4 | hirara\n",
      "Processing Record 16 of Set 4 | dunedin\n",
      "Processing Record 17 of Set 4 | skibbereen\n",
      "Processing Record 18 of Set 4 | naryan-mar\n",
      "Processing Record 19 of Set 4 | manta\n",
      "Processing Record 20 of Set 4 | vardo\n",
      "Processing Record 21 of Set 4 | karakendzha\n",
      "City not found. Skipping...\n",
      "Processing Record 22 of Set 4 | quesnel\n",
      "Processing Record 23 of Set 4 | husavik\n",
      "Processing Record 24 of Set 4 | te anau\n",
      "Processing Record 25 of Set 4 | sosnovo-ozerskoye\n",
      "Processing Record 26 of Set 4 | broome\n",
      "Processing Record 27 of Set 4 | vestmannaeyjar\n",
      "Processing Record 28 of Set 4 | kletskaya\n",
      "Processing Record 29 of Set 4 | ruatoria\n",
      "City not found. Skipping...\n",
      "Processing Record 30 of Set 4 | bredasdorp\n",
      "Processing Record 31 of Set 4 | qaqortoq\n",
      "Processing Record 32 of Set 4 | imbituba\n",
      "Processing Record 33 of Set 4 | maragogi\n",
      "Processing Record 34 of Set 4 | avera\n",
      "Processing Record 35 of Set 4 | angoche\n"
     ]
    },
    {
     "name": "stdout",
     "output_type": "stream",
     "text": [
      "Processing Record 36 of Set 4 | ayan\n",
      "Processing Record 37 of Set 4 | yeppoon\n",
      "Processing Record 38 of Set 4 | nioro\n",
      "Processing Record 39 of Set 4 | geresk\n",
      "City not found. Skipping...\n",
      "Processing Record 40 of Set 4 | slavutych\n",
      "Processing Record 41 of Set 4 | san miguel ixtahuacan\n",
      "Processing Record 42 of Set 4 | sirjan\n",
      "Processing Record 43 of Set 4 | eyrarbakki\n",
      "Processing Record 44 of Set 4 | palmer\n",
      "Processing Record 45 of Set 4 | gomel\n",
      "Processing Record 46 of Set 4 | lebu\n",
      "Processing Record 47 of Set 4 | mehamn\n",
      "Processing Record 48 of Set 4 | shubarshi\n",
      "Processing Record 49 of Set 4 | cherusti\n",
      "Processing Record 0 of Set 5 | ginir\n",
      "Processing Record 1 of Set 5 | pareora\n",
      "Processing Record 2 of Set 5 | alugan\n",
      "Processing Record 3 of Set 5 | hambantota\n",
      "Processing Record 4 of Set 5 | dikson\n",
      "Processing Record 5 of Set 5 | saint-augustin\n",
      "Processing Record 6 of Set 5 | canberra\n",
      "Processing Record 7 of Set 5 | airai\n",
      "Processing Record 8 of Set 5 | nemuro\n",
      "Processing Record 9 of Set 5 | tshela\n",
      "Processing Record 10 of Set 5 | loksa\n",
      "Processing Record 11 of Set 5 | rawannawi\n",
      "City not found. Skipping...\n",
      "Processing Record 12 of Set 5 | yar-sale\n",
      "Processing Record 13 of Set 5 | westport\n",
      "Processing Record 14 of Set 5 | jijiga\n",
      "Processing Record 15 of Set 5 | ishigaki\n",
      "Processing Record 16 of Set 5 | jumla\n",
      "Processing Record 17 of Set 5 | prainha\n",
      "Processing Record 18 of Set 5 | exokhi\n",
      "City not found. Skipping...\n",
      "Processing Record 19 of Set 5 | kruisfontein\n",
      "Processing Record 20 of Set 5 | nome\n",
      "Processing Record 21 of Set 5 | cayenne\n",
      "Processing Record 22 of Set 5 | coihaique\n",
      "Processing Record 23 of Set 5 | kargat\n",
      "Processing Record 24 of Set 5 | galiwinku\n",
      "City not found. Skipping...\n",
      "Processing Record 25 of Set 5 | pacific grove\n",
      "Processing Record 26 of Set 5 | sumbe\n",
      "Processing Record 27 of Set 5 | mwinilunga\n",
      "Processing Record 28 of Set 5 | codrington\n",
      "Processing Record 29 of Set 5 | matay\n",
      "Processing Record 30 of Set 5 | sao joao da barra\n",
      "Processing Record 31 of Set 5 | chifeng\n",
      "Processing Record 32 of Set 5 | jabiru\n",
      "City not found. Skipping...\n",
      "Processing Record 33 of Set 5 | touros\n",
      "Processing Record 34 of Set 5 | severnoye\n",
      "Processing Record 35 of Set 5 | petropavlovsk-kamchatskiy\n",
      "Processing Record 36 of Set 5 | missoula\n",
      "Processing Record 37 of Set 5 | businga\n",
      "Processing Record 38 of Set 5 | namibe\n",
      "Processing Record 39 of Set 5 | lubao\n",
      "Processing Record 40 of Set 5 | ilulissat\n",
      "Processing Record 41 of Set 5 | viligili\n",
      "City not found. Skipping...\n",
      "Processing Record 42 of Set 5 | labuhan\n",
      "Processing Record 43 of Set 5 | bulgan\n",
      "Processing Record 44 of Set 5 | carahue\n",
      "Processing Record 45 of Set 5 | melukote\n",
      "Processing Record 46 of Set 5 | kargasok\n",
      "Processing Record 47 of Set 5 | moindou\n",
      "Processing Record 48 of Set 5 | dicabisagan\n",
      "Processing Record 49 of Set 5 | kirakira\n",
      "Processing Record 0 of Set 6 | jiuquan\n",
      "Processing Record 1 of Set 6 | one hundred mile house\n",
      "City not found. Skipping...\n",
      "Processing Record 2 of Set 6 | botou\n",
      "Processing Record 3 of Set 6 | leningradskiy\n",
      "Processing Record 4 of Set 6 | moctezuma\n",
      "Processing Record 5 of Set 6 | tome\n",
      "Processing Record 6 of Set 6 | sitka\n",
      "Processing Record 7 of Set 6 | bintulu\n",
      "Processing Record 8 of Set 6 | mount isa\n",
      "Processing Record 9 of Set 6 | vao\n",
      "Processing Record 10 of Set 6 | inhambane\n",
      "Processing Record 11 of Set 6 | bargal\n",
      "City not found. Skipping...\n",
      "Processing Record 12 of Set 6 | baghdad\n",
      "Processing Record 13 of Set 6 | karratha\n",
      "Processing Record 14 of Set 6 | alford\n",
      "Processing Record 15 of Set 6 | filadelfia\n",
      "Processing Record 16 of Set 6 | sinkat\n",
      "City not found. Skipping...\n",
      "Processing Record 17 of Set 6 | severo-kurilsk\n",
      "Processing Record 18 of Set 6 | pontianak\n",
      "Processing Record 19 of Set 6 | sibay\n",
      "Processing Record 20 of Set 6 | esperance\n",
      "Processing Record 21 of Set 6 | atherton\n",
      "Processing Record 22 of Set 6 | ayagoz\n",
      "Processing Record 23 of Set 6 | san patricio\n",
      "Processing Record 24 of Set 6 | banda aceh\n",
      "Processing Record 25 of Set 6 | praya\n",
      "Processing Record 26 of Set 6 | albesti\n",
      "Processing Record 27 of Set 6 | kiunga\n",
      "Processing Record 28 of Set 6 | pedreiras\n",
      "Processing Record 29 of Set 6 | izobilnyy\n",
      "Processing Record 30 of Set 6 | sungaipenuh\n",
      "Processing Record 31 of Set 6 | corinto\n",
      "Processing Record 32 of Set 6 | itaberai\n",
      "Processing Record 33 of Set 6 | mineiros\n",
      "Processing Record 34 of Set 6 | troitskoye\n",
      "Processing Record 35 of Set 6 | yaring\n",
      "Processing Record 36 of Set 6 | pemberton\n",
      "Processing Record 37 of Set 6 | ust-kamchatsk\n",
      "City not found. Skipping...\n",
      "Processing Record 38 of Set 6 | yamada\n",
      "Processing Record 39 of Set 6 | bodden town\n",
      "Processing Record 40 of Set 6 | provideniya\n",
      "Processing Record 41 of Set 6 | arraial do cabo\n",
      "Processing Record 42 of Set 6 | mayor pablo lagerenza\n",
      "Processing Record 43 of Set 6 | castro\n",
      "Processing Record 44 of Set 6 | olafsvik\n",
      "Processing Record 45 of Set 6 | padang\n",
      "Processing Record 46 of Set 6 | san policarpo\n",
      "Processing Record 47 of Set 6 | trujillo\n",
      "Processing Record 48 of Set 6 | kaitangata\n",
      "Processing Record 49 of Set 6 | soyo\n",
      "Processing Record 0 of Set 7 | miri\n",
      "Processing Record 1 of Set 7 | bend\n",
      "Processing Record 2 of Set 7 | muros\n",
      "Processing Record 3 of Set 7 | turayf\n",
      "Processing Record 4 of Set 7 | whitehorse\n",
      "Processing Record 5 of Set 7 | neyshabur\n",
      "Processing Record 6 of Set 7 | lompoc\n",
      "Processing Record 7 of Set 7 | clyde river\n",
      "Processing Record 8 of Set 7 | segou\n",
      "Processing Record 9 of Set 7 | camabatela\n",
      "Processing Record 10 of Set 7 | san pedro\n",
      "Processing Record 11 of Set 7 | nizwa\n",
      "Processing Record 12 of Set 7 | sumbawa\n",
      "City not found. Skipping...\n",
      "Processing Record 13 of Set 7 | ribeira grande\n",
      "Processing Record 14 of Set 7 | waterfoot\n",
      "Processing Record 15 of Set 7 | tanout\n",
      "Processing Record 16 of Set 7 | cidreira\n",
      "Processing Record 17 of Set 7 | riverton\n",
      "Processing Record 18 of Set 7 | klenovyy\n",
      "Processing Record 19 of Set 7 | naica\n",
      "Processing Record 20 of Set 7 | lagoa\n",
      "Processing Record 21 of Set 7 | dordrecht\n",
      "Processing Record 22 of Set 7 | osa\n",
      "Processing Record 23 of Set 7 | prince rupert\n",
      "Processing Record 24 of Set 7 | mount gambier\n",
      "Processing Record 25 of Set 7 | torbay\n",
      "Processing Record 26 of Set 7 | hami\n",
      "Processing Record 27 of Set 7 | pangnirtung\n",
      "Processing Record 28 of Set 7 | cabedelo\n",
      "Processing Record 29 of Set 7 | ulladulla\n",
      "Processing Record 30 of Set 7 | cockburn town\n",
      "Processing Record 31 of Set 7 | lyuban\n",
      "Processing Record 32 of Set 7 | san quintin\n",
      "Processing Record 33 of Set 7 | champerico\n",
      "Processing Record 34 of Set 7 | caucaia\n",
      "Processing Record 35 of Set 7 | laguna\n",
      "Processing Record 36 of Set 7 | fasa\n",
      "Processing Record 37 of Set 7 | honiara\n",
      "Processing Record 38 of Set 7 | oistins\n",
      "Processing Record 39 of Set 7 | alice springs\n",
      "Processing Record 40 of Set 7 | taft\n",
      "Processing Record 41 of Set 7 | norman wells\n",
      "Processing Record 42 of Set 7 | stornoway\n",
      "Processing Record 43 of Set 7 | dormidontovka\n",
      "Processing Record 44 of Set 7 | victoria\n",
      "Processing Record 45 of Set 7 | grand baie\n",
      "Processing Record 46 of Set 7 | ghoti\n",
      "Processing Record 47 of Set 7 | glendive\n",
      "Processing Record 48 of Set 7 | denpasar\n",
      "Processing Record 49 of Set 7 | port hardy\n",
      "Processing Record 0 of Set 8 | timizart\n",
      "Processing Record 1 of Set 8 | vaitupu\n",
      "City not found. Skipping...\n",
      "Processing Record 2 of Set 8 | port elizabeth\n",
      "Processing Record 3 of Set 8 | kahului\n",
      "Processing Record 4 of Set 8 | kaseda\n",
      "Processing Record 5 of Set 8 | mirnyy\n",
      "Processing Record 6 of Set 8 | alofi\n",
      "Processing Record 7 of Set 8 | lisakovsk\n",
      "Processing Record 8 of Set 8 | bauchi\n",
      "Processing Record 9 of Set 8 | qingquan\n",
      "Processing Record 10 of Set 8 | zhob\n",
      "Processing Record 11 of Set 8 | labuan\n",
      "Processing Record 12 of Set 8 | atar\n",
      "Processing Record 13 of Set 8 | kiomboi\n",
      "Processing Record 14 of Set 8 | marawi\n",
      "Processing Record 15 of Set 8 | luderitz\n",
      "Processing Record 16 of Set 8 | kirovsk\n",
      "Processing Record 17 of Set 8 | pizhma\n",
      "Processing Record 18 of Set 8 | zhigansk\n",
      "Processing Record 19 of Set 8 | boone\n",
      "Processing Record 20 of Set 8 | gympie\n",
      "Processing Record 21 of Set 8 | the valley\n",
      "Processing Record 22 of Set 8 | ereymentau\n",
      "Processing Record 23 of Set 8 | contagem\n",
      "Processing Record 24 of Set 8 | katangli\n",
      "Processing Record 25 of Set 8 | kavaratti\n",
      "Processing Record 26 of Set 8 | nalut\n",
      "Processing Record 27 of Set 8 | aquiraz\n",
      "Processing Record 28 of Set 8 | salme\n"
     ]
    },
    {
     "name": "stdout",
     "output_type": "stream",
     "text": [
      "Processing Record 29 of Set 8 | kysyl-syr\n",
      "Processing Record 30 of Set 8 | marsh harbour\n",
      "Processing Record 31 of Set 8 | mogocha\n",
      "Processing Record 32 of Set 8 | berlevag\n",
      "Processing Record 33 of Set 8 | abiy adi\n",
      "City not found. Skipping...\n",
      "Processing Record 34 of Set 8 | leshukonskoye\n",
      "Processing Record 35 of Set 8 | tumannyy\n",
      "City not found. Skipping...\n",
      "Processing Record 36 of Set 8 | tiksi\n",
      "Processing Record 37 of Set 8 | mukhen\n",
      "Processing Record 38 of Set 8 | terrace\n",
      "Processing Record 39 of Set 8 | boddam\n",
      "Processing Record 40 of Set 8 | atasu\n",
      "Processing Record 41 of Set 8 | caravelas\n",
      "Processing Record 42 of Set 8 | neftcala\n",
      "Processing Record 43 of Set 8 | kharitonovo\n",
      "Processing Record 44 of Set 8 | williamsport\n",
      "Processing Record 45 of Set 8 | brownsville\n",
      "Processing Record 46 of Set 8 | oksfjord\n",
      "Processing Record 47 of Set 8 | hluk\n",
      "Processing Record 48 of Set 8 | mbanza-ngungu\n",
      "Processing Record 49 of Set 8 | puerto leguizamo\n",
      "Processing Record 0 of Set 9 | raudeberg\n",
      "Processing Record 1 of Set 9 | anadyr\n",
      "Processing Record 2 of Set 9 | faya\n",
      "Processing Record 3 of Set 9 | klaksvik\n",
      "Processing Record 4 of Set 9 | saint george\n",
      "Processing Record 5 of Set 9 | telimele\n",
      "Processing Record 6 of Set 9 | sioux lookout\n",
      "Processing Record 7 of Set 9 | medicine hat\n",
      "Processing Record 8 of Set 9 | urumqi\n",
      "Processing Record 9 of Set 9 | bukan\n",
      "Processing Record 10 of Set 9 | dukat\n",
      "Processing Record 11 of Set 9 | san bartolome de tirajana\n",
      "Processing Record 12 of Set 9 | luba\n",
      "Processing Record 13 of Set 9 | abaete\n",
      "Processing Record 14 of Set 9 | shihezi\n",
      "Processing Record 15 of Set 9 | fortuna\n",
      "Processing Record 16 of Set 9 | sorland\n",
      "Processing Record 17 of Set 9 | olbia\n",
      "Processing Record 18 of Set 9 | valparaiso\n",
      "Processing Record 19 of Set 9 | galveston\n",
      "Processing Record 20 of Set 9 | jablah\n",
      "Processing Record 21 of Set 9 | honningsvag\n",
      "Processing Record 22 of Set 9 | dolores\n",
      "Processing Record 23 of Set 9 | bamiantong\n",
      "Processing Record 24 of Set 9 | karasjok\n",
      "Processing Record 25 of Set 9 | deder\n",
      "Processing Record 26 of Set 9 | eirunepe\n",
      "Processing Record 27 of Set 9 | cuamba\n",
      "Processing Record 28 of Set 9 | bilibino\n",
      "Processing Record 29 of Set 9 | muravlenko\n",
      "Processing Record 30 of Set 9 | mayumba\n",
      "Processing Record 31 of Set 9 | calamba\n",
      "Processing Record 32 of Set 9 | lorengau\n",
      "Processing Record 33 of Set 9 | tamandare\n",
      "Processing Record 34 of Set 9 | bandar\n",
      "Processing Record 35 of Set 9 | nanyang\n",
      "Processing Record 36 of Set 9 | puerto madryn\n",
      "Processing Record 37 of Set 9 | roscommon\n",
      "Processing Record 38 of Set 9 | colgong\n",
      "Processing Record 39 of Set 9 | tevriz\n",
      "Processing Record 40 of Set 9 | magliz\n",
      "City not found. Skipping...\n",
      "Processing Record 41 of Set 9 | ibanda\n",
      "Processing Record 42 of Set 9 | lehigh acres\n",
      "Processing Record 43 of Set 9 | meulaboh\n",
      "Processing Record 44 of Set 9 | tasiilaq\n",
      "Processing Record 45 of Set 9 | bonthe\n",
      "Processing Record 46 of Set 9 | sakai\n",
      "Processing Record 47 of Set 9 | itoman\n",
      "Processing Record 48 of Set 9 | abnub\n",
      "Processing Record 49 of Set 9 | yuncheng\n",
      "Processing Record 0 of Set 10 | kabo\n",
      "Processing Record 1 of Set 10 | tiznit\n",
      "Processing Record 2 of Set 10 | tazmalt\n",
      "Processing Record 3 of Set 10 | constitucion\n",
      "Processing Record 4 of Set 10 | aklavik\n",
      "Processing Record 5 of Set 10 | shkotovo-26\n",
      "City not found. Skipping...\n",
      "Processing Record 6 of Set 10 | poum\n",
      "Processing Record 7 of Set 10 | santa rosa\n",
      "Processing Record 8 of Set 10 | prescott\n",
      "Processing Record 9 of Set 10 | changji\n",
      "Processing Record 10 of Set 10 | tungor\n",
      "Processing Record 11 of Set 10 | kalemie\n",
      "Processing Record 12 of Set 10 | goderich\n",
      "Processing Record 13 of Set 10 | verkhoyansk\n",
      "Processing Record 14 of Set 10 | menongue\n",
      "Processing Record 15 of Set 10 | segezha\n",
      "Processing Record 16 of Set 10 | antsohihy\n",
      "Processing Record 17 of Set 10 | rocha\n",
      "Processing Record 18 of Set 10 | camacha\n",
      "Processing Record 19 of Set 10 | naze\n",
      "Processing Record 20 of Set 10 | christchurch\n",
      "Processing Record 21 of Set 10 | luangwa\n",
      "Processing Record 22 of Set 10 | lakatoro\n",
      "Processing Record 23 of Set 10 | sao desiderio\n",
      "Processing Record 24 of Set 10 | mbigou\n",
      "Processing Record 25 of Set 10 | tanabe\n",
      "Processing Record 26 of Set 10 | mersing\n",
      "Processing Record 27 of Set 10 | hamilton\n",
      "Processing Record 28 of Set 10 | albanel\n",
      "Processing Record 29 of Set 10 | chimoio\n",
      "Processing Record 30 of Set 10 | hovd\n",
      "Processing Record 31 of Set 10 | pafos\n",
      "Processing Record 32 of Set 10 | bathsheba\n",
      "Processing Record 33 of Set 10 | ilebo\n",
      "Processing Record 34 of Set 10 | vvedenskoye\n",
      "Processing Record 35 of Set 10 | los llanos de aridane\n",
      "Processing Record 36 of Set 10 | dongsheng\n",
      "Processing Record 37 of Set 10 | helong\n",
      "Processing Record 38 of Set 10 | malwan\n",
      "City not found. Skipping...\n",
      "Processing Record 39 of Set 10 | broken hill\n",
      "Processing Record 40 of Set 10 | warqla\n",
      "City not found. Skipping...\n",
      "Processing Record 41 of Set 10 | matagami\n",
      "Processing Record 42 of Set 10 | samatau\n",
      "City not found. Skipping...\n",
      "Processing Record 43 of Set 10 | socorro\n",
      "Processing Record 44 of Set 10 | acari\n",
      "Processing Record 45 of Set 10 | umzimvubu\n",
      "City not found. Skipping...\n",
      "Processing Record 46 of Set 10 | poykovskiy\n",
      "Processing Record 47 of Set 10 | bay roberts\n",
      "Processing Record 48 of Set 10 | umm lajj\n",
      "Processing Record 49 of Set 10 | agadez\n",
      "Processing Record 0 of Set 11 | tucuman\n",
      "Processing Record 1 of Set 11 | maierus\n",
      "Processing Record 2 of Set 11 | igarka\n",
      "Processing Record 3 of Set 11 | bairiki\n",
      "Processing Record 4 of Set 11 | veraval\n",
      "Processing Record 5 of Set 11 | damghan\n",
      "Processing Record 6 of Set 11 | west wendover\n",
      "Processing Record 7 of Set 11 | huangmei\n",
      "Processing Record 8 of Set 11 | kroya\n",
      "Processing Record 9 of Set 11 | jiazi\n",
      "Processing Record 10 of Set 11 | zabid\n",
      "Processing Record 11 of Set 11 | naugarzan\n",
      "City not found. Skipping...\n",
      "Processing Record 12 of Set 11 | bambanglipuro\n",
      "Processing Record 13 of Set 11 | huarmey\n",
      "Processing Record 14 of Set 11 | tilichiki\n",
      "Processing Record 15 of Set 11 | montepuez\n",
      "Processing Record 16 of Set 11 | tessalit\n",
      "Processing Record 17 of Set 11 | svetlaya\n",
      "Processing Record 18 of Set 11 | wulanhaote\n",
      "City not found. Skipping...\n",
      "Processing Record 19 of Set 11 | araouane\n",
      "Processing Record 20 of Set 11 | mazatlan\n",
      "Processing Record 21 of Set 11 | talara\n",
      "Processing Record 22 of Set 11 | magaria\n",
      "Processing Record 23 of Set 11 | kloulklubed\n",
      "Processing Record 24 of Set 11 | srandakan\n",
      "Processing Record 25 of Set 11 | gillette\n",
      "Processing Record 26 of Set 11 | taoudenni\n",
      "Processing Record 27 of Set 11 | louis trichardt\n",
      "Processing Record 28 of Set 11 | mauriti\n",
      "Processing Record 29 of Set 11 | metro\n",
      "Processing Record 30 of Set 11 | vikindu\n",
      "Processing Record 31 of Set 11 | cherepanovo\n",
      "Processing Record 32 of Set 11 | tachov\n",
      "Processing Record 33 of Set 11 | haibowan\n",
      "City not found. Skipping...\n",
      "Processing Record 34 of Set 11 | kaeo\n",
      "Processing Record 35 of Set 11 | oyama\n",
      "Processing Record 36 of Set 11 | yerbogachen\n",
      "Processing Record 37 of Set 11 | kristiansand\n",
      "Processing Record 38 of Set 11 | kovdor\n",
      "Processing Record 39 of Set 11 | havoysund\n",
      "Processing Record 40 of Set 11 | paamiut\n",
      "Processing Record 41 of Set 11 | sioux falls\n",
      "Processing Record 42 of Set 11 | ballina\n",
      "Processing Record 43 of Set 11 | ravar\n",
      "Processing Record 44 of Set 11 | uinskoye\n",
      "Processing Record 45 of Set 11 | sobolevo\n",
      "Processing Record 46 of Set 11 | chapais\n",
      "Processing Record 47 of Set 11 | nanlong\n",
      "Processing Record 48 of Set 11 | pathein\n",
      "Processing Record 49 of Set 11 | cordoba\n",
      "Processing Record 0 of Set 12 | baoqing\n",
      "Processing Record 1 of Set 12 | uaua\n",
      "Processing Record 2 of Set 12 | sola\n",
      "Processing Record 3 of Set 12 | sussex\n",
      "Processing Record 4 of Set 12 | dakar\n",
      "Processing Record 5 of Set 12 | palabuhanratu\n",
      "City not found. Skipping...\n",
      "Processing Record 6 of Set 12 | kawalu\n",
      "Processing Record 7 of Set 12 | souillac\n",
      "Processing Record 8 of Set 12 | shakawe\n",
      "Processing Record 9 of Set 12 | sao francisco\n",
      "Processing Record 10 of Set 12 | itarema\n",
      "Processing Record 11 of Set 12 | jinchengjiang\n",
      "City not found. Skipping...\n",
      "Processing Record 12 of Set 12 | golden\n",
      "Processing Record 13 of Set 12 | periyakulam\n",
      "Processing Record 14 of Set 12 | batsfjord\n",
      "Processing Record 15 of Set 12 | razole\n",
      "Processing Record 16 of Set 12 | san francisco\n",
      "Processing Record 17 of Set 12 | mayo\n",
      "Processing Record 18 of Set 12 | preobrazheniye\n"
     ]
    },
    {
     "name": "stdout",
     "output_type": "stream",
     "text": [
      "Processing Record 19 of Set 12 | ballstad\n",
      "City not found. Skipping...\n",
      "Processing Record 20 of Set 12 | inirida\n",
      "Processing Record 21 of Set 12 | buraydah\n",
      "Processing Record 22 of Set 12 | mvuma\n",
      "Processing Record 23 of Set 12 | tabas\n",
      "Processing Record 24 of Set 12 | varhaug\n",
      "Processing Record 25 of Set 12 | new ulm\n",
      "Processing Record 26 of Set 12 | kihei\n",
      "Processing Record 27 of Set 12 | nur\n",
      "Processing Record 28 of Set 12 | gubkinskiy\n",
      "Processing Record 29 of Set 12 | vitim\n",
      "Processing Record 30 of Set 12 | haines junction\n",
      "Processing Record 31 of Set 12 | rio hato\n",
      "Processing Record 32 of Set 12 | hopewell\n",
      "Processing Record 33 of Set 12 | brownwood\n",
      "Processing Record 34 of Set 12 | long xuyen\n",
      "Processing Record 35 of Set 12 | trofors\n",
      "Processing Record 36 of Set 12 | louisbourg\n",
      "City not found. Skipping...\n",
      "Processing Record 37 of Set 12 | harper\n",
      "Processing Record 38 of Set 12 | joshimath\n",
      "Processing Record 39 of Set 12 | sorong\n",
      "Processing Record 40 of Set 12 | caborca\n",
      "Processing Record 41 of Set 12 | libourne\n",
      "Processing Record 42 of Set 12 | port moresby\n",
      "Processing Record 43 of Set 12 | ust-tsilma\n",
      "Processing Record 44 of Set 12 | nishihara\n",
      "Processing Record 45 of Set 12 | fairbanks\n",
      "Processing Record 46 of Set 12 | emerald\n",
      "Processing Record 47 of Set 12 | yushu\n",
      "Processing Record 48 of Set 12 | peterhead\n",
      "Processing Record 49 of Set 12 | baracoa\n",
      "Processing Record 0 of Set 13 | manokwari\n",
      "Processing Record 1 of Set 13 | miranorte\n",
      "City not found. Skipping...\n",
      "Processing Record 2 of Set 13 | skagen\n",
      "Processing Record 3 of Set 13 | camacupa\n",
      "Processing Record 4 of Set 13 | la tuque\n",
      "Processing Record 5 of Set 13 | dalvik\n",
      "Processing Record 6 of Set 13 | carballo\n",
      "Processing Record 7 of Set 13 | magadan\n",
      "Processing Record 8 of Set 13 | neuquen\n",
      "Processing Record 9 of Set 13 | lipari\n",
      "Processing Record 10 of Set 13 | prykolotne\n",
      "Processing Record 11 of Set 13 | mbala\n",
      "Processing Record 12 of Set 13 | borovskoy\n",
      "Processing Record 13 of Set 13 | pestovo\n",
      "Processing Record 14 of Set 13 | strezhevoy\n",
      "-----------------------------\n",
      "Data Retrieval Complete      \n",
      "-----------------------------\n"
     ]
    }
   ],
   "source": [
    "# Create counters\n",
    "record_count = 1\n",
    "set_count = 1\n",
    "\n",
    "# Loop through all the cities in our list to fetch weather data (to test first, (cities[:5])\n",
    "for i, city in enumerate(cities):\n",
    "        \n",
    "    # Group cities in sets of 50 for logging purposes\n",
    "    if (i % 50 == 0 and i >= 50):\n",
    "        set_count += 1\n",
    "        record_count = 0\n",
    "\n",
    "    # Create endpoint URL with each city\n",
    "    city_url = url + \"&q=\" + city\n",
    "    \n",
    "    # Log the url, record, and set numbers\n",
    "    print(\"Processing Record %s of Set %s | %s\" % (record_count, set_count, city))\n",
    "\n",
    "    # Add 1 to the record count\n",
    "    record_count += 1\n",
    "\n",
    "    # Run an API request for each of the cities\n",
    "    try:\n",
    "        # Parse the JSON and retrieve data\n",
    "        city_weather = requests.get(city_url).json()\n",
    "#dict_keys(['coord', 'weather', 'base', 'main', \n",
    "           #'visibility', 'wind', 'clouds', 'dt', 'sys', 'timezone', 'id', 'name', 'cod'])\n",
    "        # Parse out latitude, longitude, max temp, humidity, cloudiness, wind speed, country, and date\n",
    "        city_lat = city_weather[\"coord\"][\"lat\"]\n",
    "        city_lng = city_weather[\"coord\"][\"lon\"]\n",
    "        city_max_temp = city_weather[\"main\"][\"temp_max\"]\n",
    "        city_humidity = city_weather[\"main\"][\"humidity\"]\n",
    "        city_clouds = city_weather[\"clouds\"][\"all\"]\n",
    "        city_wind = city_weather[\"wind\"][\"speed\"]\n",
    "        city_country = city_weather[\"sys\"][\"country\"]\n",
    "        city_date = city_weather[\"dt\"]\n",
    "\n",
    "        # Append the City information into city_data list\n",
    "        city_data.append({\"City\": city, \n",
    "                          \"Lat\": city_lat, \n",
    "                          \"Lng\": city_lng, \n",
    "                          \"Max Temp\": city_max_temp,\n",
    "                          \"Humidity\": city_humidity,\n",
    "                          \"Cloudiness\": city_clouds,\n",
    "                          \"Wind Speed\": city_wind,\n",
    "                          \"Country\": city_country,\n",
    "                          \"Date\": city_date})\n",
    "\n",
    "    # If an error is experienced, skip the city\n",
    "    except:\n",
    "        print(\"City not found. Skipping...\")\n",
    "        pass\n",
    "              \n",
    "# Indicate that Data Loading is complete \n",
    "print(\"-----------------------------\")\n",
    "print(\"Data Retrieval Complete      \")\n",
    "print(\"-----------------------------\")"
   ]
  },
  {
   "cell_type": "code",
   "execution_count": 28,
   "metadata": {},
   "outputs": [
    {
     "name": "stdout",
     "output_type": "stream",
     "text": [
      "City          568\n",
      "Lat           568\n",
      "Lng           568\n",
      "Max Temp      568\n",
      "Humidity      568\n",
      "Cloudiness    568\n",
      "Wind Speed    568\n",
      "Country       568\n",
      "Date          568\n",
      "dtype: int64\n"
     ]
    }
   ],
   "source": [
    "# Convert the cities weather data into a Pandas DataFrame\n",
    "\n",
    "city_data_df = pd.DataFrame (city_data)\n",
    "\n",
    "# Show Record Count\n",
    "city_data_df.count()"
   ]
  },
  {
   "cell_type": "code",
   "execution_count": 29,
   "metadata": {},
   "outputs": [
    {
     "data": {
      "text/html": [
       "<div>\n",
       "<style scoped>\n",
       "    .dataframe tbody tr th:only-of-type {\n",
       "        vertical-align: middle;\n",
       "    }\n",
       "\n",
       "    .dataframe tbody tr th {\n",
       "        vertical-align: top;\n",
       "    }\n",
       "\n",
       "    .dataframe thead th {\n",
       "        text-align: right;\n",
       "    }\n",
       "</style>\n",
       "<table border=\"1\" class=\"dataframe\">\n",
       "  <thead>\n",
       "    <tr style=\"text-align: right;\">\n",
       "      <th></th>\n",
       "      <th>City</th>\n",
       "      <th>Lat</th>\n",
       "      <th>Lng</th>\n",
       "      <th>Max Temp</th>\n",
       "      <th>Humidity</th>\n",
       "      <th>Cloudiness</th>\n",
       "      <th>Wind Speed</th>\n",
       "      <th>Country</th>\n",
       "      <th>Date</th>\n",
       "    </tr>\n",
       "  </thead>\n",
       "  <tbody>\n",
       "    <tr>\n",
       "      <th>0</th>\n",
       "      <td>srednekolymsk</td>\n",
       "      <td>67.4500</td>\n",
       "      <td>153.6833</td>\n",
       "      <td>-44.43</td>\n",
       "      <td>99</td>\n",
       "      <td>48</td>\n",
       "      <td>5.77</td>\n",
       "      <td>RU</td>\n",
       "      <td>1671039686</td>\n",
       "    </tr>\n",
       "    <tr>\n",
       "      <th>1</th>\n",
       "      <td>yellowknife</td>\n",
       "      <td>62.4560</td>\n",
       "      <td>-114.3525</td>\n",
       "      <td>7.32</td>\n",
       "      <td>85</td>\n",
       "      <td>40</td>\n",
       "      <td>14.97</td>\n",
       "      <td>CA</td>\n",
       "      <td>1671039687</td>\n",
       "    </tr>\n",
       "    <tr>\n",
       "      <th>2</th>\n",
       "      <td>atuona</td>\n",
       "      <td>-9.8000</td>\n",
       "      <td>-139.0333</td>\n",
       "      <td>77.49</td>\n",
       "      <td>79</td>\n",
       "      <td>63</td>\n",
       "      <td>16.17</td>\n",
       "      <td>PF</td>\n",
       "      <td>1671039687</td>\n",
       "    </tr>\n",
       "    <tr>\n",
       "      <th>3</th>\n",
       "      <td>sistranda</td>\n",
       "      <td>63.7256</td>\n",
       "      <td>8.8340</td>\n",
       "      <td>21.16</td>\n",
       "      <td>58</td>\n",
       "      <td>100</td>\n",
       "      <td>23.62</td>\n",
       "      <td>NO</td>\n",
       "      <td>1671039687</td>\n",
       "    </tr>\n",
       "    <tr>\n",
       "      <th>4</th>\n",
       "      <td>pisco</td>\n",
       "      <td>-13.7000</td>\n",
       "      <td>-76.2167</td>\n",
       "      <td>73.45</td>\n",
       "      <td>73</td>\n",
       "      <td>0</td>\n",
       "      <td>11.50</td>\n",
       "      <td>PE</td>\n",
       "      <td>1671039688</td>\n",
       "    </tr>\n",
       "  </tbody>\n",
       "</table>\n",
       "</div>"
      ],
      "text/plain": [
       "            City      Lat       Lng  Max Temp  Humidity  Cloudiness  \\\n",
       "0  srednekolymsk  67.4500  153.6833    -44.43        99          48   \n",
       "1    yellowknife  62.4560 -114.3525      7.32        85          40   \n",
       "2         atuona  -9.8000 -139.0333     77.49        79          63   \n",
       "3      sistranda  63.7256    8.8340     21.16        58         100   \n",
       "4          pisco -13.7000  -76.2167     73.45        73           0   \n",
       "\n",
       "   Wind Speed Country        Date  \n",
       "0        5.77      RU  1671039686  \n",
       "1       14.97      CA  1671039687  \n",
       "2       16.17      PF  1671039687  \n",
       "3       23.62      NO  1671039687  \n",
       "4       11.50      PE  1671039688  "
      ]
     },
     "execution_count": 29,
     "metadata": {},
     "output_type": "execute_result"
    }
   ],
   "source": [
    "# Display sample data\n",
    "city_data_df.head()"
   ]
  },
  {
   "cell_type": "code",
   "execution_count": 32,
   "metadata": {},
   "outputs": [
    {
     "name": "stdout",
     "output_type": "stream",
     "text": [
      "Successful export\n"
     ]
    }
   ],
   "source": [
    "# Export the City_Data into a csv\n",
    "city_data_df.to_csv(\"../output_data/cities.csv\", index_label=\"City_ID\")\n",
    "\n",
    "print(\"Successful export\")"
   ]
  },
  {
   "cell_type": "code",
   "execution_count": 34,
   "metadata": {},
   "outputs": [
    {
     "data": {
      "text/html": [
       "<div>\n",
       "<style scoped>\n",
       "    .dataframe tbody tr th:only-of-type {\n",
       "        vertical-align: middle;\n",
       "    }\n",
       "\n",
       "    .dataframe tbody tr th {\n",
       "        vertical-align: top;\n",
       "    }\n",
       "\n",
       "    .dataframe thead th {\n",
       "        text-align: right;\n",
       "    }\n",
       "</style>\n",
       "<table border=\"1\" class=\"dataframe\">\n",
       "  <thead>\n",
       "    <tr style=\"text-align: right;\">\n",
       "      <th></th>\n",
       "      <th>City</th>\n",
       "      <th>Lat</th>\n",
       "      <th>Lng</th>\n",
       "      <th>Max Temp</th>\n",
       "      <th>Humidity</th>\n",
       "      <th>Cloudiness</th>\n",
       "      <th>Wind Speed</th>\n",
       "      <th>Country</th>\n",
       "      <th>Date</th>\n",
       "    </tr>\n",
       "    <tr>\n",
       "      <th>City_ID</th>\n",
       "      <th></th>\n",
       "      <th></th>\n",
       "      <th></th>\n",
       "      <th></th>\n",
       "      <th></th>\n",
       "      <th></th>\n",
       "      <th></th>\n",
       "      <th></th>\n",
       "      <th></th>\n",
       "    </tr>\n",
       "  </thead>\n",
       "  <tbody>\n",
       "    <tr>\n",
       "      <th>0</th>\n",
       "      <td>srednekolymsk</td>\n",
       "      <td>67.4500</td>\n",
       "      <td>153.6833</td>\n",
       "      <td>-44.43</td>\n",
       "      <td>99</td>\n",
       "      <td>48</td>\n",
       "      <td>5.77</td>\n",
       "      <td>RU</td>\n",
       "      <td>1671039686</td>\n",
       "    </tr>\n",
       "    <tr>\n",
       "      <th>1</th>\n",
       "      <td>yellowknife</td>\n",
       "      <td>62.4560</td>\n",
       "      <td>-114.3525</td>\n",
       "      <td>7.32</td>\n",
       "      <td>85</td>\n",
       "      <td>40</td>\n",
       "      <td>14.97</td>\n",
       "      <td>CA</td>\n",
       "      <td>1671039687</td>\n",
       "    </tr>\n",
       "    <tr>\n",
       "      <th>2</th>\n",
       "      <td>atuona</td>\n",
       "      <td>-9.8000</td>\n",
       "      <td>-139.0333</td>\n",
       "      <td>77.49</td>\n",
       "      <td>79</td>\n",
       "      <td>63</td>\n",
       "      <td>16.17</td>\n",
       "      <td>PF</td>\n",
       "      <td>1671039687</td>\n",
       "    </tr>\n",
       "    <tr>\n",
       "      <th>3</th>\n",
       "      <td>sistranda</td>\n",
       "      <td>63.7256</td>\n",
       "      <td>8.8340</td>\n",
       "      <td>21.16</td>\n",
       "      <td>58</td>\n",
       "      <td>100</td>\n",
       "      <td>23.62</td>\n",
       "      <td>NO</td>\n",
       "      <td>1671039687</td>\n",
       "    </tr>\n",
       "    <tr>\n",
       "      <th>4</th>\n",
       "      <td>pisco</td>\n",
       "      <td>-13.7000</td>\n",
       "      <td>-76.2167</td>\n",
       "      <td>73.45</td>\n",
       "      <td>73</td>\n",
       "      <td>0</td>\n",
       "      <td>11.50</td>\n",
       "      <td>PE</td>\n",
       "      <td>1671039688</td>\n",
       "    </tr>\n",
       "  </tbody>\n",
       "</table>\n",
       "</div>"
      ],
      "text/plain": [
       "                  City      Lat       Lng  Max Temp  Humidity  Cloudiness  \\\n",
       "City_ID                                                                     \n",
       "0        srednekolymsk  67.4500  153.6833    -44.43        99          48   \n",
       "1          yellowknife  62.4560 -114.3525      7.32        85          40   \n",
       "2               atuona  -9.8000 -139.0333     77.49        79          63   \n",
       "3            sistranda  63.7256    8.8340     21.16        58         100   \n",
       "4                pisco -13.7000  -76.2167     73.45        73           0   \n",
       "\n",
       "         Wind Speed Country        Date  \n",
       "City_ID                                  \n",
       "0              5.77      RU  1671039686  \n",
       "1             14.97      CA  1671039687  \n",
       "2             16.17      PF  1671039687  \n",
       "3             23.62      NO  1671039687  \n",
       "4             11.50      PE  1671039688  "
      ]
     },
     "execution_count": 34,
     "metadata": {},
     "output_type": "execute_result"
    }
   ],
   "source": [
    "# Read saved data\n",
    "city_data_df = pd.read_csv(\"../output_data/cities.csv\", index_col=\"City_ID\")\n",
    "\n",
    "# Display sample data\n",
    "city_data_df.head()"
   ]
  },
  {
   "cell_type": "markdown",
   "metadata": {},
   "source": [
    "### Create the Scatter Plots Requested\n",
    "\n",
    "#### Latitude Vs. Temperature"
   ]
  },
  {
   "cell_type": "code",
   "execution_count": 40,
   "metadata": {
    "tags": []
   },
   "outputs": [
    {
     "data": {
      "image/png": "[encoded data removed]",
      "text/plain": [
       "<Figure size 432x288 with 1 Axes>"
      ]
     },
     "metadata": {
      "needs_background": "light"
     },
     "output_type": "display_data"
    }
   ],
   "source": [
    "# Build scatter plot for latitude vs. temperature\n",
    "city_data_df.plot.scatter (x= \"Lat\", y= \"Max Temp\", title = 'Latitude vs. Temperature')\n",
    "\n",
    "# Incorporate the other graph properties\n",
    "# YOUR CODE HERE\n",
    "\n",
    "# Save the figure\n",
    "plt.savefig(\"../output_data/Fig1.png\")\n",
    "\n",
    "# # Show plot\n",
    "plt.show()"
   ]
  },
  {
   "cell_type": "markdown",
   "metadata": {},
   "source": [
    "#### Latitude Vs. Humidity"
   ]
  },
  {
   "cell_type": "code",
   "execution_count": 41,
   "metadata": {
    "scrolled": true
   },
   "outputs": [
    {
     "data": {
      "image/png": "[encoded data removed]",
      "text/plain": [
       "<Figure size 432x288 with 1 Axes>"
      ]
     },
     "metadata": {
      "needs_background": "light"
     },
     "output_type": "display_data"
    }
   ],
   "source": [
    "# Build the scatter plots for latitude vs. humidity\n",
    "city_data_df.plot.scatter (x= \"Lat\", y= \"Humidity\", title = 'Latitude vs. Humidity', c = 'r')\n",
    "\n",
    "# Incorporate the other graph properties\n",
    "# YOUR CODE HERE\n",
    "\n",
    "# Save the figure\n",
    "plt.savefig(\"../output_data/Fig2.png\")\n",
    "\n",
    "# Show plot\n",
    "plt.show()"
   ]
  },
  {
   "cell_type": "markdown",
   "metadata": {},
   "source": [
    "#### Latitude Vs. Cloudiness"
   ]
  },
  {
   "cell_type": "code",
   "execution_count": 42,
   "metadata": {},
   "outputs": [
    {
     "data": {
      "image/png": "[encoded data removed]",
      "text/plain": [
       "<Figure size 432x288 with 1 Axes>"
      ]
     },
     "metadata": {
      "needs_background": "light"
     },
     "output_type": "display_data"
    }
   ],
   "source": [
    "# Build the scatter plots for latitude vs. cloudiness\n",
    "city_data_df.plot.scatter (x= \"Lat\", y= \"Cloudiness\", title = 'Latitude vs. Cloudiness')\n",
    "\n",
    "# Incorporate the other graph properties\n",
    "# YOUR CODE HERE\n",
    "\n",
    "# Save the figure\n",
    "plt.savefig(\"../output_data/Fig3.png\")\n",
    "\n",
    "# Show plot\n",
    "plt.show()"
   ]
  },
  {
   "cell_type": "markdown",
   "metadata": {},
   "source": [
    "#### Latitude vs. Wind Speed Plot"
   ]
  },
  {
   "cell_type": "code",
   "execution_count": 43,
   "metadata": {},
   "outputs": [
    {
     "data": {
      "image/png": "[encoded data removed]",
      "text/plain": [
       "<Figure size 432x288 with 1 Axes>"
      ]
     },
     "metadata": {
      "needs_background": "light"
     },
     "output_type": "display_data"
    }
   ],
   "source": [
    "# Build the scatter plots for latitude vs. wind speed\n",
    "city_data_df.plot.scatter (x= \"Lat\", y= \"Wind Speed\", title = 'Latitude vs. Wind Speed', c = 'g')\n",
    "\n",
    "# Incorporate the other graph properties\n",
    "# YOUR CODE HERE\n",
    "\n",
    "# Save the figure\n",
    "plt.savefig(\"../output_data/Fig4.png\")\n",
    "\n",
    "# Show plot\n",
    "plt.show()"
   ]
  },
  {
   "cell_type": "markdown",
   "metadata": {},
   "source": [
    "---\n",
    "\n",
    "## Requirement 2: Compute Linear Regression for Each Relationship\n"
   ]
  },
  {
   "cell_type": "code",
   "execution_count": 76,
   "metadata": {},
   "outputs": [],
   "source": [
    "# Define a function to create Linear Regression plots\n",
    "\n",
    "def linear_reg_plot_generator (x_values, y_values, slope, intercept, rvalue, regress_values):\n",
    "    #line_eq = \"y = \" + str(round(slope,2)) + \"x + \" + str(round(intercept,2))\n",
    "    \n",
    "    return (plt.plot(x_values,regress_values,rvalue))\n",
    "    return (plt.scatter(x_values,y_values))\n",
    "    return plt.annotate(line_eq,(5.8,0.8),fontsize=15,color=\"red\")\n",
    "\n"
   ]
  },
  {
   "cell_type": "code",
   "execution_count": 68,
   "metadata": {},
   "outputs": [],
   "source": [
    "#Must calculate separately and store values:\n",
    "# (slope, intercept, rvalue, pvalue, stderr) = linregress(x_values, y_values)\n",
    "# regress_values = x_values * slope + intercept\n",
    "\n",
    "#ex.\n",
    "x_values = city_data_df[\"Lat\"]\n",
    "y_values = city_data_df[\"Humidity\"]\n",
    "\n",
    "#(slope, intercept, rvalue, pvalue, stderr) = \n",
    "lat_v_hum = linregress(x_values, y_values)\n",
    "lat_v_hum \n",
    "\n",
    "slope_h = lat_v_hum[0]\n",
    "intercept_h = lat_v_hum[1]\n",
    "r_value_h = lat_v_hum[2]\n",
    "\n",
    "regress_values_h = x_values*slope_h + intercept_h\n",
    "\n",
    "\n",
    "\n",
    "\n"
   ]
  },
  {
   "cell_type": "code",
   "execution_count": 77,
   "metadata": {
    "scrolled": false
   },
   "outputs": [
    {
     "data": {
      "text/plain": [
       "[<matplotlib.lines.Line2D at 0x265735d1e50>,\n",
       " <matplotlib.lines.Line2D at 0x265735f3d90>]"
      ]
     },
     "execution_count": 77,
     "metadata": {},
     "output_type": "execute_result"
    },
    {
     "data": {
      "image/png": "[encoded data removed]",
      "text/plain": [
       "<Figure size 432x288 with 1 Axes>"
      ]
     },
     "metadata": {
      "needs_background": "light"
     },
     "output_type": "display_data"
    }
   ],
   "source": [
    "linear_reg_plot_generator(city_data_df[\"Lat\"], city_data_df[\"Humidity\"], slope_h, intercept_h, r_value_h, regress_values_h)"
   ]
  },
  {
   "cell_type": "code",
   "execution_count": null,
   "metadata": {},
   "outputs": [],
   "source": [
    "# Add the linear regression equation and line to plot\n",
    "x_values = san_diego_housing['AveRooms']\n",
    "y_values = san_diego_housing['MEDV']\n",
    "(slope, intercept, rvalue, pvalue, stderr) = linregress(x_values, y_values)\n",
    "regress_values = x_values * slope + intercept\n",
    "line_eq = \"y = \" + str(round(slope,2)) + \"x + \" + str(round(intercept,2))\n",
    "plt.scatter(x_values,y_values)\n",
    "plt.plot(x_values,regress_values,\"r-\")\n",
    "plt.annotate(line_eq,(5.8,0.8),fontsize=15,color=\"red\")\n",
    "plt.xlabel('Rooms in House')\n",
    "plt.ylabel('Median House Prices ($100,000)')\n",
    "plt.show()"
   ]
  },
  {
   "cell_type": "code",
   "execution_count": null,
   "metadata": {},
   "outputs": [],
   "source": [
    "# Create a DataFrame with the Northern Hemisphere data (Latitude >= 0)\n",
    "# YOUR CODE HERE\n",
    "\n",
    "# Display sample data\n",
    "northern_hemi_df.head()"
   ]
  },
  {
   "cell_type": "code",
   "execution_count": null,
   "metadata": {},
   "outputs": [],
   "source": [
    "# Create a DataFrame with the Southern Hemisphere data (Latitude < 0)\n",
    "# YOUR CODE HERE\n",
    "\n",
    "# Display sample data\n",
    "southern_hemi_df.head()"
   ]
  },
  {
   "cell_type": "markdown",
   "metadata": {},
   "source": [
    "###  Temperature vs. Latitude Linear Regression Plot"
   ]
  },
  {
   "cell_type": "code",
   "execution_count": null,
   "metadata": {},
   "outputs": [],
   "source": [
    "# Linear regression on Northern Hemisphere\n",
    "# YOUR CODE HERE"
   ]
  },
  {
   "cell_type": "code",
   "execution_count": null,
   "metadata": {},
   "outputs": [],
   "source": [
    "# Linear regression on Southern Hemisphere\n",
    "# YOUR CODE HERE"
   ]
  },
  {
   "cell_type": "markdown",
   "metadata": {},
   "source": [
    "**Discussion about the linear relationship:** YOUR RESPONSE HERE"
   ]
  },
  {
   "cell_type": "markdown",
   "metadata": {},
   "source": [
    "### Humidity vs. Latitude Linear Regression Plot"
   ]
  },
  {
   "cell_type": "code",
   "execution_count": null,
   "metadata": {},
   "outputs": [],
   "source": [
    "# Northern Hemisphere\n",
    "# YOUR CODE HERE"
   ]
  },
  {
   "cell_type": "code",
   "execution_count": null,
   "metadata": {},
   "outputs": [],
   "source": [
    "# Southern Hemisphere\n",
    "# YOUR CODE HERE"
   ]
  },
  {
   "cell_type": "markdown",
   "metadata": {},
   "source": [
    "**Discussion about the linear relationship:** YOUR RESPONSE HERE"
   ]
  },
  {
   "cell_type": "markdown",
   "metadata": {},
   "source": [
    "### Cloudiness vs. Latitude Linear Regression Plot"
   ]
  },
  {
   "cell_type": "code",
   "execution_count": null,
   "metadata": {},
   "outputs": [],
   "source": [
    "# Northern Hemisphere\n",
    "# YOUR CODE HERE"
   ]
  },
  {
   "cell_type": "code",
   "execution_count": null,
   "metadata": {},
   "outputs": [],
   "source": [
    "# Southern Hemisphere\n",
    "# YOUR CODE HERE"
   ]
  },
  {
   "cell_type": "markdown",
   "metadata": {},
   "source": [
    "**Discussion about the linear relationship:** YOUR RESPONSE HERE"
   ]
  },
  {
   "cell_type": "markdown",
   "metadata": {},
   "source": [
    "### Wind Speed vs. Latitude Linear Regression Plot"
   ]
  },
  {
   "cell_type": "code",
   "execution_count": null,
   "metadata": {},
   "outputs": [],
   "source": [
    "# Northern Hemisphere\n",
    "# YOUR CODE HERE"
   ]
  },
  {
   "cell_type": "code",
   "execution_count": null,
   "metadata": {},
   "outputs": [],
   "source": [
    "# Southern Hemisphere\n",
    "# YOUR CODE HERE"
   ]
  },
  {
   "cell_type": "markdown",
   "metadata": {},
   "source": [
    "**Discussion about the linear relationship:** YOUR RESPONSE HERE"
   ]
  },
  {
   "cell_type": "code",
   "execution_count": null,
   "metadata": {},
   "outputs": [],
   "source": []
  }
 ],
 "metadata": {
  "anaconda-cloud": {},
  "kernel_info": {
   "name": "python3"
  },
  "kernelspec": {
   "display_name": "Python 3 (ipykernel)",
   "language": "python",
   "name": "python3"
  },
  "language_info": {
   "codemirror_mode": {
    "name": "ipython",
    "version": 3
   },
   "file_extension": ".py",
   "mimetype": "text/x-python",
   "name": "python",
   "nbconvert_exporter": "python",
   "pygments_lexer": "ipython3",
   "version": "3.9.12"
  },
  "latex_envs": {
   "LaTeX_envs_menu_present": true,
   "autoclose": false,
   "autocomplete": true,
   "bibliofile": "biblio.bib",
   "cite_by": "apalike",
   "current_citInitial": 1,
   "eqLabelWithNumbers": true,
   "eqNumInitial": 1,
   "hotkeys": {
    "equation": "Ctrl-E",
    "itemize": "Ctrl-I"
   },
   "labels_anchors": false,
   "latex_user_defs": false,
   "report_style_numbering": false,
   "user_envs_cfg": false
  },
  "nteract": {
   "version": "0.12.3"
  }
 },
 "nbformat": 4,
 "nbformat_minor": 4
}
